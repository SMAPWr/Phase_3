{
 "cells": [
  {
   "cell_type": "markdown",
   "metadata": {},
   "source": [
    "# Hate Speech Detector - Test data preparation"
   ]
  },
  {
   "cell_type": "code",
   "execution_count": 1,
   "metadata": {},
   "outputs": [],
   "source": [
    "import csv\n",
    "import os\n",
    "\n",
    "from tqdm.notebook import tqdm"
   ]
  },
  {
   "cell_type": "code",
   "execution_count": 2,
   "metadata": {
    "scrolled": false
   },
   "outputs": [],
   "source": [
    "def get_necessary_data(in_file_names, out_file_name, columns):\n",
    "    list_data = []\n",
    "    for in_file_name in in_file_names:\n",
    "        with open(in_file_name, 'r', encoding='utf8') as f:\n",
    "            data = {col: [] for col in columns}\n",
    "\n",
    "            num_reader = csv.DictReader(f)\n",
    "            num_rows = 0\n",
    "            for row in num_reader:\n",
    "                num_rows += 1\n",
    "\n",
    "            f.seek(0)\n",
    "            reader = csv.DictReader(f)\n",
    "            for row in tqdm(reader, total=num_rows):\n",
    "                for h, v in row.items():\n",
    "                    if h in columns:\n",
    "                        data[h].append(v)\n",
    "\n",
    "        list_data.extend(list(zip(*[data[col] for col in columns])))\n",
    "    \n",
    "    with open(out_file_name, 'w', encoding='utf8') as f:\n",
    "        writer = csv.writer(f)\n",
    "        writer.writerow(columns)\n",
    "        for row in tqdm(list_data):\n",
    "            writer.writerow(row)\n",
    "    \n",
    "    return list_data"
   ]
  },
  {
   "cell_type": "code",
   "execution_count": 3,
   "metadata": {},
   "outputs": [],
   "source": [
    "def get_csv_data(file_name):\n",
    "    with open(file_name, 'r') as f:\n",
    "        list_data = [d for d in tqdm(list(csv.reader(f)))]\n",
    "    return list_data"
   ]
  },
  {
   "cell_type": "markdown",
   "metadata": {},
   "source": [
    "#### Data analyses to perform:\n",
    "    1) Which hashtags/mentions denote hate speech or non-hate speech?\n",
    "    2) Which users (username, name) from test data use hate speech?\n",
    "    3) How do the hour/day-of-month histograms for all, hate-speech and non-hate-speech tweets look like?\n",
    "    4) How the tweets denoted as hate speech are popular (number of likes retweets, replies) according to above analysis?"
   ]
  },
  {
   "cell_type": "code",
   "execution_count": 4,
   "metadata": {},
   "outputs": [
    {
     "data": {
      "application/vnd.jupyter.widget-view+json": {
       "model_id": "b0c8d798d71948a48de05126f3975d19",
       "version_major": 2,
       "version_minor": 0
      },
      "text/plain": [
       "HBox(children=(IntProgress(value=0, max=235150), HTML(value='')))"
      ]
     },
     "metadata": {},
     "output_type": "display_data"
    },
    {
     "name": "stdout",
     "output_type": "stream",
     "text": [
      "\n"
     ]
    },
    {
     "data": {
      "application/vnd.jupyter.widget-view+json": {
       "model_id": "58a1498cb7264ab1a416ca7bd7ab8bef",
       "version_major": 2,
       "version_minor": 0
      },
      "text/plain": [
       "HBox(children=(IntProgress(value=0, max=235150), HTML(value='')))"
      ]
     },
     "metadata": {},
     "output_type": "display_data"
    },
    {
     "name": "stdout",
     "output_type": "stream",
     "text": [
      "\n"
     ]
    },
    {
     "data": {
      "application/vnd.jupyter.widget-view+json": {
       "model_id": "dff214f218e8472a9ef6f7ae2ea88299",
       "version_major": 2,
       "version_minor": 0
      },
      "text/plain": [
       "HBox(children=(IntProgress(value=0, max=7245), HTML(value='')))"
      ]
     },
     "metadata": {},
     "output_type": "display_data"
    },
    {
     "name": "stdout",
     "output_type": "stream",
     "text": [
      "\n"
     ]
    },
    {
     "data": {
      "application/vnd.jupyter.widget-view+json": {
       "model_id": "6885e078b14b4f86aaeff8fda532370d",
       "version_major": 2,
       "version_minor": 0
      },
      "text/plain": [
       "HBox(children=(IntProgress(value=0, max=20359), HTML(value='')))"
      ]
     },
     "metadata": {},
     "output_type": "display_data"
    },
    {
     "name": "stdout",
     "output_type": "stream",
     "text": [
      "\n"
     ]
    },
    {
     "data": {
      "application/vnd.jupyter.widget-view+json": {
       "model_id": "759c2ffb7489404b83da9670d6717e7f",
       "version_major": 2,
       "version_minor": 0
      },
      "text/plain": [
       "HBox(children=(IntProgress(value=0, max=27604), HTML(value='')))"
      ]
     },
     "metadata": {},
     "output_type": "display_data"
    },
    {
     "name": "stdout",
     "output_type": "stream",
     "text": [
      "\n"
     ]
    }
   ],
   "source": [
    "# get necessary tweet data\n",
    "necessary_cols = ['tweet', 'date', 'time', 'username', 'name', 'hashtags', 'mentions', 'retweets_count', 'likes_count', 'reply_to']\n",
    "if not os.path.exists('tests/necessary_en.csv'):\n",
    "    get_necessary_data(['tests/hsd_brexit_en.csv'], 'tests/necessary_en.csv', necessary_cols)\n",
    "if not os.path.exists('tests/necessary_pl.csv'):\n",
    "    get_necessary_data(['tests/hsd_owsiak_pl.csv', 'tests/hsd_wosp_pl.csv'], 'tests/necessary_pl.csv', necessary_cols)"
   ]
  },
  {
   "cell_type": "code",
   "execution_count": 5,
   "metadata": {},
   "outputs": [
    {
     "data": {
      "application/vnd.jupyter.widget-view+json": {
       "model_id": "3de5b8d2644f48b89bf148722138f671",
       "version_major": 2,
       "version_minor": 0
      },
      "text/plain": [
       "HBox(children=(IntProgress(value=0, max=235150), HTML(value='')))"
      ]
     },
     "metadata": {},
     "output_type": "display_data"
    },
    {
     "name": "stdout",
     "output_type": "stream",
     "text": [
      "\n"
     ]
    },
    {
     "data": {
      "application/vnd.jupyter.widget-view+json": {
       "model_id": "f5816028b92e4624b58a7e0329f59248",
       "version_major": 2,
       "version_minor": 0
      },
      "text/plain": [
       "HBox(children=(IntProgress(value=0, max=235150), HTML(value='')))"
      ]
     },
     "metadata": {},
     "output_type": "display_data"
    },
    {
     "name": "stdout",
     "output_type": "stream",
     "text": [
      "\n"
     ]
    },
    {
     "data": {
      "application/vnd.jupyter.widget-view+json": {
       "model_id": "cc62a8a3b5ec45ba8a2dddc3f5480690",
       "version_major": 2,
       "version_minor": 0
      },
      "text/plain": [
       "HBox(children=(IntProgress(value=0, max=27604), HTML(value='')))"
      ]
     },
     "metadata": {},
     "output_type": "display_data"
    },
    {
     "name": "stdout",
     "output_type": "stream",
     "text": [
      "\n"
     ]
    },
    {
     "data": {
      "application/vnd.jupyter.widget-view+json": {
       "model_id": "4e8fada40f5c47e6810ccf6506d0658a",
       "version_major": 2,
       "version_minor": 0
      },
      "text/plain": [
       "HBox(children=(IntProgress(value=0, max=27604), HTML(value='')))"
      ]
     },
     "metadata": {},
     "output_type": "display_data"
    },
    {
     "name": "stdout",
     "output_type": "stream",
     "text": [
      "\n"
     ]
    }
   ],
   "source": [
    "# get raw tweets\n",
    "if not os.path.exists('tests/tweets_en.csv'):\n",
    "    get_necessary_data(['tests/necessary_en.csv'], 'tests/tweets_en.csv', ['tweet'])\n",
    "if not os.path.exists('tests/tweets_pl.csv'):\n",
    "    get_necessary_data(['tests/necessary_pl.csv'], 'tests/tweets_pl.csv', ['tweet'])"
   ]
  },
  {
   "cell_type": "code",
   "execution_count": null,
   "metadata": {},
   "outputs": [],
   "source": []
  }
 ],
 "metadata": {
  "kernelspec": {
   "display_name": "Python 3",
   "language": "python",
   "name": "python3"
  },
  "language_info": {
   "codemirror_mode": {
    "name": "ipython",
    "version": 3
   },
   "file_extension": ".py",
   "mimetype": "text/x-python",
   "name": "python",
   "nbconvert_exporter": "python",
   "pygments_lexer": "ipython3",
   "version": "3.7.4"
  }
 },
 "nbformat": 4,
 "nbformat_minor": 2
}
