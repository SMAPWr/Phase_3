{
 "cells": [
  {
   "cell_type": "markdown",
   "metadata": {},
   "source": [
    "# Hate Speech Detector - Test data preparation"
   ]
  },
  {
   "cell_type": "code",
   "execution_count": 1,
   "metadata": {},
   "outputs": [],
   "source": [
    "import csv\n",
    "import os\n",
    "\n",
    "from tqdm.notebook import tqdm"
   ]
  },
  {
   "cell_type": "code",
   "execution_count": 2,
   "metadata": {
    "scrolled": false
   },
   "outputs": [],
   "source": [
    "def get_necessary_data(in_file_names, out_file_name, columns):\n",
    "    list_data = []\n",
    "    for in_file_name in in_file_names:\n",
    "        with open(in_file_name, 'r') as f:\n",
    "            data = {col: [] for col in columns}\n",
    "\n",
    "            num_reader = csv.DictReader(f)\n",
    "            num_rows = 0\n",
    "            for row in num_reader:\n",
    "                num_rows += 1\n",
    "\n",
    "            f.seek(0)\n",
    "            reader = csv.DictReader(f)\n",
    "            for row in tqdm(reader, total=num_rows):\n",
    "                for h, v in row.items():\n",
    "                    if h in columns:\n",
    "                        data[h].append(v)\n",
    "\n",
    "        list_data.extend(list(zip(*[data[col] for col in columns])))\n",
    "    \n",
    "    with open(out_file_name, 'w') as f:\n",
    "        writer = csv.writer(f)\n",
    "        writer.writerow(columns)\n",
    "        for row in tqdm(list_data):\n",
    "            writer.writerow(row)\n",
    "    \n",
    "    return list_data"
   ]
  },
  {
   "cell_type": "code",
   "execution_count": 3,
   "metadata": {},
   "outputs": [],
   "source": [
    "def get_csv_data(file_name):\n",
    "    with open(file_name, 'r') as f:\n",
    "        list_data = [d for d in tqdm(list(csv.reader(f)))]\n",
    "    return list_data"
   ]
  },
  {
   "cell_type": "markdown",
   "metadata": {},
   "source": [
    "### Data analyses to perform:\n",
    "    1) Which hashtags/mentions denote hate speech or no-hate speech?\n",
    "    2) How the tweets denoted as hate speech are popular (number of likes retweets, replies)?\n",
    "    3) Which users (username, name) from test data use hate speech (examples)?\n",
    "    4) How do the hour/day-of-month histograms for all, hate-speech and non-hate-speech tweets look like?"
   ]
  },
  {
   "cell_type": "code",
   "execution_count": 4,
   "metadata": {},
   "outputs": [],
   "source": [
    "# get necessary tweet data\n",
    "necessary_cols = ['tweet', 'date', 'time', 'username', 'name', 'hashtags', 'mentions', 'retweets_count', 'likes_count', 'reply_to']\n",
    "if not os.path.exists('tests/necessary_en.csv'):\n",
    "    get_necessary_data(['tests/hsd_brexit_en.csv'], 'tests/necessary_en.csv', necessary_cols)\n",
    "if not os.path.exists('tests/necessary_pl.csv'):\n",
    "    get_necessary_data(['tests/hsd_owsiak_pl.csv', 'tests/hsd_wosp_pl.csv'], 'tests/necessary_pl.csv', necessary_cols)"
   ]
  },
  {
   "cell_type": "code",
   "execution_count": 5,
   "metadata": {},
   "outputs": [],
   "source": [
    "# get raw tweets\n",
    "if not os.path.exists('tests/tweets_en.csv'):\n",
    "    get_necessary_data(['tests/necessary_en.csv'], 'tests/tweets_en.csv', ['tweet'])\n",
    "if not os.path.exists('tests/tweets_pl.csv'):\n",
    "    get_necessary_data(['tests/necessary_pl.csv'], 'tests/tweets_pl.csv', ['tweet'])"
   ]
  },
  {
   "cell_type": "code",
   "execution_count": null,
   "metadata": {},
   "outputs": [],
   "source": []
  }
 ],
 "metadata": {
  "kernelspec": {
   "display_name": "Python 3",
   "language": "python",
   "name": "python3"
  },
  "language_info": {
   "codemirror_mode": {
    "name": "ipython",
    "version": 2
   },
   "file_extension": ".py",
   "mimetype": "text/x-python",
   "name": "python",
   "nbconvert_exporter": "python",
   "pygments_lexer": "ipython2",
   "version": "2.7.15+"
  }
 },
 "nbformat": 4,
 "nbformat_minor": 2
}
